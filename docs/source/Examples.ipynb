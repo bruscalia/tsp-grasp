{
 "cells": [
  {
   "cell_type": "markdown",
   "metadata": {},
   "source": [
    "## Examples\n",
    "\n",
    "Here you might find more detailed applications of `tspgrap`.\n",
    "\n",
    "- [Constructive Heuristics](#constructive)\n",
    "- [Local Search](#local-search)\n",
    "- [Grasp](#grasp)"
   ]
  },
  {
   "cell_type": "code",
   "execution_count": null,
   "metadata": {},
   "outputs": [],
   "source": [
    "# Imports\n",
    "import numpy as np\n",
    "from scipy.spatial.distance import pdist, squareform\n",
    "import matplotlib.pyplot as plt\n",
    "from tspgrasp import (\n",
    "    Grasp, CheapestArc, SemiGreedyArc, CheapestInsertion, SemiGreedyInsertion,\n",
    "    LocalSearch, SimulatedAnnealing\n",
    ")"
   ]
  },
  {
   "cell_type": "code",
   "execution_count": null,
   "metadata": {},
   "outputs": [],
   "source": [
    "# Create distance matrix with random coordinates\n",
    "np.random.seed(12)\n",
    "X = np.random.random((300, 2))\n",
    "D = squareform(pdist(X))"
   ]
  },
  {
   "cell_type": "markdown",
   "metadata": {},
   "source": [
    "### Constructive"
   ]
  },
  {
   "cell_type": "markdown",
   "metadata": {},
   "source": [
    "#### Cheapest Arc"
   ]
  },
  {
   "cell_type": "code",
   "execution_count": null,
   "metadata": {},
   "outputs": [],
   "source": [
    "# Instantiate algorithms and solve problem\n",
    "semi_greedy = SemiGreedyArc(alpha=0.8, seed=12)\n",
    "greedy = CheapestArc(seed=12)\n",
    "\n",
    "sol_sg = semi_greedy(D)\n",
    "sol_greedy = greedy(D)\n",
    "\n",
    "print(f\"Cost Semi-Greedy {sol_sg.cost}\")\n",
    "print(f\"Cost Greedy {sol_greedy.cost}\")"
   ]
  },
  {
   "cell_type": "code",
   "execution_count": null,
   "metadata": {},
   "outputs": [],
   "source": [
    "fig, ax = plt.subplots(1, 2, figsize=[10, 5], dpi=100)\n",
    "\n",
    "tour = np.array(sol_sg.tour)\n",
    "ax[0].scatter(X[tour, 0], X[tour, 1], color=\"navy\", s=0.3)\n",
    "ax[0].plot(X[tour, 0], X[tour, 1], color=\"navy\")\n",
    "ax[0].set_title(\"Semi-Greedy\")\n",
    "ax[0].axis('off')\n",
    "\n",
    "tour = np.array(sol_greedy.tour)\n",
    "ax[1].scatter(X[tour, 0], X[tour, 1], color=\"navy\", s=0.3)\n",
    "ax[1].plot(X[tour, 0], X[tour, 1], color=\"navy\")\n",
    "ax[1].set_title(\"Greedy\")\n",
    "\n",
    "ax[1].axis('off')\n",
    "fig.tight_layout()\n",
    "plt.show()"
   ]
  },
  {
   "cell_type": "markdown",
   "metadata": {},
   "source": [
    "#### Cheapest Insertion"
   ]
  },
  {
   "cell_type": "code",
   "execution_count": null,
   "metadata": {},
   "outputs": [],
   "source": [
    "# Instantiate algorithms and solve problem\n",
    "semi_greedy = SemiGreedyInsertion(alpha=0.8, seed=12)\n",
    "greedy = CheapestInsertion(seed=12)\n",
    "\n",
    "sol_sg = semi_greedy(D)\n",
    "sol_greedy = greedy(D)\n",
    "\n",
    "print(f\"Cost Semi-Greedy {sol_sg.cost}\")\n",
    "print(f\"Cost Greedy {sol_greedy.cost}\")"
   ]
  },
  {
   "cell_type": "code",
   "execution_count": null,
   "metadata": {},
   "outputs": [],
   "source": [
    "fig, ax = plt.subplots(1, 2, figsize=[10, 5], dpi=100)\n",
    "\n",
    "tour = np.array(sol_sg.tour)\n",
    "ax[0].scatter(X[tour, 0], X[tour, 1], color=\"navy\", s=0.3)\n",
    "ax[0].plot(X[tour, 0], X[tour, 1], color=\"navy\")\n",
    "ax[0].set_title(\"Semi-Greedy\")\n",
    "ax[0].axis('off')\n",
    "\n",
    "tour = np.array(sol_greedy.tour)\n",
    "ax[1].scatter(X[tour, 0], X[tour, 1], color=\"navy\", s=0.3)\n",
    "ax[1].plot(X[tour, 0], X[tour, 1], color=\"navy\")\n",
    "ax[1].set_title(\"Greedy\")\n",
    "\n",
    "ax[1].axis('off')\n",
    "fig.tight_layout()\n",
    "plt.show()"
   ]
  },
  {
   "cell_type": "markdown",
   "metadata": {},
   "source": [
    "### Local search"
   ]
  },
  {
   "cell_type": "code",
   "execution_count": null,
   "metadata": {},
   "outputs": [],
   "source": [
    "# Instantiate algorithms and solve problem\n",
    "ls = LocalSearch(seed=12)\n",
    "sa = SimulatedAnnealing(T_start=1e-2, T_final=1e-6, decay=0.999)\n",
    "\n",
    "start = list(range(D.shape[0]))\n",
    "sol_ls = ls(start, D)\n",
    "sol_sa = sa(start, D)\n",
    "\n",
    "print(f\"Cost VNS {sol_ls.cost}\")\n",
    "print(f\"Cost Simulated Annealing {sol_sa.cost}\")"
   ]
  },
  {
   "cell_type": "code",
   "execution_count": null,
   "metadata": {},
   "outputs": [],
   "source": [
    "fig, ax = plt.subplots(1, 2, figsize=[10, 5], dpi=100)\n",
    "\n",
    "tour = np.array(sol_ls.tour)\n",
    "ax[0].scatter(X[tour, 0], X[tour, 1], color=\"navy\", s=0.3)\n",
    "ax[0].plot(X[tour, 0], X[tour, 1], color=\"navy\")\n",
    "ax[0].set_title(\"LocalSearch\")\n",
    "ax[0].axis('off')\n",
    "\n",
    "tour = np.array(sol_sa.tour)\n",
    "ax[1].scatter(X[tour, 0], X[tour, 1], color=\"navy\", s=0.3)\n",
    "ax[1].plot(X[tour, 0], X[tour, 1], color=\"navy\")\n",
    "ax[1].set_title(\"SimulatedAnnealing\")\n",
    "\n",
    "ax[1].axis('off')\n",
    "fig.tight_layout()\n",
    "plt.show()"
   ]
  },
  {
   "cell_type": "markdown",
   "metadata": {},
   "source": [
    "### Grasp"
   ]
  },
  {
   "cell_type": "code",
   "execution_count": null,
   "metadata": {},
   "outputs": [],
   "source": [
    "# Instantiate algorithms and solve problem\n",
    "ls = LocalSearch(seed=12)\n",
    "semi_greedy = SemiGreedyArc(alpha=0.8, seed=12)\n",
    "greedy = CheapestArc(seed=12)\n",
    "grasp_greedy = Grasp(constructive=greedy, local_search=ls, seed=12)\n",
    "grasp_sg = Grasp(constructive=semi_greedy, local_search=ls, seed=12)\n",
    "\n",
    "sol_sg = grasp_sg(D, max_iter=1000)\n",
    "sol_greedy = grasp_greedy(D, max_iter=1000)\n",
    "\n",
    "print(f\"Cost Grasp Semi-Greedy {sol_sg.cost}\")\n",
    "print(f\"Cost Grasp Greedy {sol_greedy.cost}\")"
   ]
  },
  {
   "cell_type": "code",
   "execution_count": null,
   "metadata": {},
   "outputs": [],
   "source": [
    "fig, ax = plt.subplots(1, 2, figsize=[10, 5], dpi=100)\n",
    "\n",
    "tour = np.array(sol_sg.tour)\n",
    "ax[0].scatter(X[tour, 0], X[tour, 1], color=\"navy\", s=0.3)\n",
    "ax[0].plot(X[tour, 0], X[tour, 1], color=\"navy\")\n",
    "ax[0].set_title(\"Semi-Greedy + LS\")\n",
    "ax[0].axis('off')\n",
    "\n",
    "tour = np.array(sol_greedy.tour)\n",
    "ax[1].scatter(X[tour, 0], X[tour, 1], color=\"navy\", s=0.3)\n",
    "ax[1].plot(X[tour, 0], X[tour, 1], color=\"navy\")\n",
    "ax[1].set_title(\"Greedy + LS\")\n",
    "\n",
    "ax[1].axis('off')\n",
    "fig.tight_layout()\n",
    "plt.show()"
   ]
  },
  {
   "cell_type": "code",
   "execution_count": null,
   "metadata": {},
   "outputs": [],
   "source": []
  }
 ],
 "metadata": {
  "kernelspec": {
   "display_name": "venv",
   "language": "python",
   "name": "python3"
  },
  "language_info": {
   "codemirror_mode": {
    "name": "ipython",
    "version": 3
   },
   "file_extension": ".py",
   "mimetype": "text/x-python",
   "name": "python",
   "nbconvert_exporter": "python",
   "pygments_lexer": "ipython3",
   "version": "3.9.7"
  }
 },
 "nbformat": 4,
 "nbformat_minor": 2
}
